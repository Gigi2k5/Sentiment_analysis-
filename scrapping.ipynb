{
 "cells": [
  {
   "cell_type": "code",
   "execution_count": 15,
   "id": "81539d36",
   "metadata": {},
   "outputs": [
    {
     "name": "stdout",
     "output_type": "stream",
     "text": [
      "✅ Fichier CSV enregistré sous : avis_google_play.csv\n"
     ]
    }
   ],
   "source": [
    "import pandas as pd\n",
    "from google_play_scraper import Sort, reviews\n",
    "\n",
    "# Liste des apps\n",
    "app_ids = [\n",
    "    'com.tencent.ig',  # PUBG Mobile\n",
    "    'com.gameloft.android.ANMP.GloftM5HM',  # Modern Combat 5\n",
    "    'com.activision.callofduty.shooter' #Call of Duty\n",
    "\n",
    "]\n",
    "\n",
    "# Récupération de tous les avis\n",
    "all_reviews = []\n",
    "\n",
    "for app_id in app_ids:\n",
    "    result, _ = reviews(\n",
    "        app_id,\n",
    "        lang='fr',\n",
    "        country='US',\n",
    "        sort=Sort.NEWEST,\n",
    "        count=1000  # Nombre d'avis à récupérer\n",
    "    )\n",
    "    for r in result:\n",
    "        all_reviews.append({\n",
    "            'id': app_id,\n",
    "            'avis': r['content']\n",
    "        })\n",
    "\n",
    "# Création et enregistrement du fichier CSV\n",
    "df = pd.DataFrame(all_reviews)\n",
    "df.to_csv(\"avis_google_play.csv\", index=False, encoding='utf-8')\n",
    "print(\"✅ Fichier CSV enregistré sous : avis_google_play.csv\")\n"
   ]
  },
  {
   "cell_type": "code",
   "execution_count": null,
   "id": "39090b2a",
   "metadata": {},
   "outputs": [],
   "source": []
  }
 ],
 "metadata": {
  "kernelspec": {
   "display_name": "Python 3",
   "language": "python",
   "name": "python3"
  },
  "language_info": {
   "codemirror_mode": {
    "name": "ipython",
    "version": 3
   },
   "file_extension": ".py",
   "mimetype": "text/x-python",
   "name": "python",
   "nbconvert_exporter": "python",
   "pygments_lexer": "ipython3",
   "version": "3.10.11"
  }
 },
 "nbformat": 4,
 "nbformat_minor": 5
}
